{
 "cells": [
  {
   "cell_type": "markdown",
   "id": "0c8b497f-1763-4341-99e3-a3f67a44ecf0",
   "metadata": {},
   "source": [
    "# Ejercicio 1"
   ]
  },
  {
   "cell_type": "markdown",
   "id": "1098a2b4-7039-4301-8ef7-94ad7e54251a",
   "metadata": {},
   "source": [
    "# Minimizar el costo de los suplementos Vega Vita y Happy Health"
   ]
  },
  {
   "cell_type": "code",
   "execution_count": 1,
   "id": "ba929ffb-2369-4134-9771-84b7c9fc8917",
   "metadata": {},
   "outputs": [],
   "source": [
    "import pulp as pp\n"
   ]
  },
  {
   "cell_type": "markdown",
   "id": "43b0d62a-4368-45e2-8209-51c77db0d4fa",
   "metadata": {},
   "source": [
    "Queremos minimizar el costo de los suplementos."
   ]
  },
  {
   "cell_type": "code",
   "execution_count": 50,
   "id": "893c7133-9681-4b6c-b9be-d8773bad9c49",
   "metadata": {},
   "outputs": [],
   "source": [
    "model = pp.LpProblem(name='supplement-problem', sense=pp.LpMinimize)"
   ]
  },
  {
   "cell_type": "code",
   "execution_count": 52,
   "id": "0f043740-1fd4-484f-bae2-4cc56ea8415c",
   "metadata": {},
   "outputs": [],
   "source": [
    "VegaVita = pp.LpVariable(name=\"VegaVita\", lowBound=0, cat='Continuous')\n",
    "HappyHealth = pp.LpVariable(name=\"HappyHealth\", lowBound=0, cat='Continuous')"
   ]
  },
  {
   "cell_type": "markdown",
   "id": "1ebe6a0e-5902-43c6-8978-92721890eda4",
   "metadata": {},
   "source": [
    "Definir la Función Objetivo"
   ]
  },
  {
   "cell_type": "code",
   "execution_count": 54,
   "id": "85dc3003-4ccd-4302-aac2-3fb7f59e036a",
   "metadata": {},
   "outputs": [],
   "source": [
    "obj_func = 0.2 * VegaVita + 0.3 * HappyHealth\n"
   ]
  },
  {
   "cell_type": "markdown",
   "id": "14ea2937-4973-4886-81db-32f41ae6981e",
   "metadata": {},
   "source": [
    "Vitamina C: 20 mg por pastilla de Vega Vita, 30 mg por pastilla de Happy Health. Necesitamos al menos 60 mg."
   ]
  },
  {
   "cell_type": "code",
   "execution_count": 57,
   "id": "3d9a342f-d522-4873-b992-fff999345d57",
   "metadata": {},
   "outputs": [],
   "source": [
    "C1 = pp.LpConstraint(name='Vitamin_C_Constraint', e=20 * VegaVita + 30 * HappyHealth, rhs=60, sense=pp.LpConstraintGE)\n"
   ]
  },
  {
   "cell_type": "markdown",
   "id": "8679e9f0-3fd9-4824-9336-a20dec00b5bd",
   "metadata": {},
   "source": [
    "Calcio: 500 mg por pastilla de Vega Vita, 250 mg por pastilla de Happy Health. Necesitamos al menos 1000 mg."
   ]
  },
  {
   "cell_type": "code",
   "execution_count": 60,
   "id": "f89670c6-f71e-4a01-b226-fda07f21c44c",
   "metadata": {},
   "outputs": [],
   "source": [
    "C2 = pp.LpConstraint(name='Calcium_Constraint', e=500 * VegaVita + 250 * HappyHealth, rhs=1000, sense=pp.LpConstraintGE)\n"
   ]
  },
  {
   "cell_type": "markdown",
   "id": "0669528b-d2ab-430a-bc8f-1a5fbf647f28",
   "metadata": {},
   "source": [
    "Hierro: 9 mg por pastilla de Vega Vita, 2 mg por pastilla de Happy Health. Necesitamos al menos 18 mg."
   ]
  },
  {
   "cell_type": "code",
   "execution_count": 63,
   "id": "f84309db-584d-4511-bd4e-e9a43dbd8c7a",
   "metadata": {},
   "outputs": [],
   "source": [
    "C3 = pp.LpConstraint(name='Iron_Constraint', e=9 * VegaVita + 2 * HappyHealth, rhs=18, sense=pp.LpConstraintGE)\n"
   ]
  },
  {
   "cell_type": "markdown",
   "id": "44fbf567-2588-48f2-9c14-e313d62a793e",
   "metadata": {},
   "source": [
    "Niacina: 2 mg por pastilla de Vega Vita, 10 mg por pastilla de Happy Health. Necesitamos al menos 20 mg."
   ]
  },
  {
   "cell_type": "code",
   "execution_count": 66,
   "id": "1bef935a-a318-45fe-b4f6-3e6c1aac578f",
   "metadata": {},
   "outputs": [],
   "source": [
    "C4 = pp.LpConstraint(name='Niacin_Constraint', e=2 * VegaVita + 10 * HappyHealth, rhs=20, sense=pp.LpConstraintGE)\n"
   ]
  },
  {
   "cell_type": "markdown",
   "id": "870e54a7-2ab4-491c-9ff9-f582d12d6001",
   "metadata": {},
   "source": [
    "Magnesio: 60 mg por pastilla de Vega Vita, 90 mg por pastilla de Happy Health. Necesitamos al menos 360 mg."
   ]
  },
  {
   "cell_type": "code",
   "execution_count": 69,
   "id": "1fbd147a-6da0-4577-b9e5-f80d169a05c0",
   "metadata": {},
   "outputs": [],
   "source": [
    "C5 = pp.LpConstraint(name='Magnesium_Constraint', e=60 * VegaVita + 90 * HappyHealth, rhs=360, sense=pp.LpConstraintGE)\n"
   ]
  },
  {
   "cell_type": "code",
   "execution_count": 71,
   "id": "b7d2d537-b929-4b5d-a38b-86519021f9b6",
   "metadata": {},
   "outputs": [],
   "source": [
    "model += obj_func\n",
    "model += C1\n",
    "model += C2\n",
    "model += C3\n",
    "model += C4\n",
    "model += C5\n"
   ]
  },
  {
   "cell_type": "code",
   "execution_count": 73,
   "id": "f0c7e2b9-4194-49fd-a91b-fc697bdb2979",
   "metadata": {},
   "outputs": [
    {
     "data": {
      "text/plain": [
       "1"
      ]
     },
     "execution_count": 73,
     "metadata": {},
     "output_type": "execute_result"
    }
   ],
   "source": [
    "solverToUse = pp.PULP_CBC_CMD(msg=False)\n",
    "model.solve(solver=solverToUse)"
   ]
  },
  {
   "cell_type": "code",
   "execution_count": 75,
   "id": "e218bff7-a93e-48ff-bb36-758efd3644b1",
   "metadata": {},
   "outputs": [
    {
     "data": {
      "text/html": [
       "<style type=\"text/css\">\n",
       "</style>\n",
       "<table id=\"T_9653a\">\n",
       "  <thead>\n",
       "    <tr>\n",
       "      <th class=\"blank level0\" >&nbsp;</th>\n",
       "      <th id=\"T_9653a_level0_col0\" class=\"col_heading level0 col0\" >Optimal Solution</th>\n",
       "      <th id=\"T_9653a_level0_col1\" class=\"col_heading level0 col1\" >HappyHealth</th>\n",
       "      <th id=\"T_9653a_level0_col2\" class=\"col_heading level0 col2\" >VegaVita</th>\n",
       "    </tr>\n",
       "    <tr>\n",
       "      <th class=\"index_name level0\" >Model Status</th>\n",
       "      <th class=\"blank col0\" >&nbsp;</th>\n",
       "      <th class=\"blank col1\" >&nbsp;</th>\n",
       "      <th class=\"blank col2\" >&nbsp;</th>\n",
       "    </tr>\n",
       "  </thead>\n",
       "  <tbody>\n",
       "    <tr>\n",
       "      <th id=\"T_9653a_level0_row0\" class=\"row_heading level0 row0\" >Optimal</th>\n",
       "      <td id=\"T_9653a_row0_col0\" class=\"data row0 col0\" >1.20</td>\n",
       "      <td id=\"T_9653a_row0_col1\" class=\"data row0 col1\" >3.13</td>\n",
       "      <td id=\"T_9653a_row0_col2\" class=\"data row0 col2\" >1.30</td>\n",
       "    </tr>\n",
       "  </tbody>\n",
       "</table>\n"
      ],
      "text/plain": [
       "<pandas.io.formats.style.Styler at 0x1852cbd3cb0>"
      ]
     },
     "execution_count": 75,
     "metadata": {},
     "output_type": "execute_result"
    }
   ],
   "source": [
    "import pandas as pd\n",
    "Results = {\"Model Status\": pp.LpStatus[model.status]}\n",
    "Results.update({\"Optimal Solution\": pp.value(model.objective)})\n",
    "Results.update({v.name: v.varValue for v in model.variables()})\n",
    "pd.DataFrame.from_dict(Results, orient='index').T.set_index('Model Status').style.format('{:,.2f}')"
   ]
  },
  {
   "cell_type": "markdown",
   "id": "3131eff0-55e0-44a3-9f8b-bd5e0bd7805a",
   "metadata": {},
   "source": [
    "El resultado indica que se debe combinar ambos suplementos para satisfacer las necesidades nutricionales de la manera más económica posible. En este caso, debes adquirir 3.13 tabletas de Happy Health y 1.30 tabletas de Vega Vita. Dado que los suplementos normalmente vienen en cantidades enteras, puede ser necesario redondear los valores "
   ]
  },
  {
   "cell_type": "markdown",
   "id": "4fb01515-caef-4982-9736-756f701fd1e2",
   "metadata": {},
   "source": [
    "# Redondeo"
   ]
  },
  {
   "cell_type": "code",
   "execution_count": 79,
   "id": "419264ed-cd4c-48b0-95d0-a7d834560ada",
   "metadata": {},
   "outputs": [],
   "source": [
    "VegaVita = pp.LpVariable(name=\"VegaVita\", lowBound=0, cat='Integer')\n",
    "HappyHealth = pp.LpVariable(name=\"HappyHealth\", lowBound=0, cat='Integer')\n"
   ]
  },
  {
   "cell_type": "code",
   "execution_count": 81,
   "id": "05b3ee48-77b3-4244-ba13-5ae844e22ac5",
   "metadata": {},
   "outputs": [],
   "source": [
    "model = pp.LpProblem(name='supplement-problem', sense=pp.LpMinimize)\n"
   ]
  },
  {
   "cell_type": "code",
   "execution_count": 83,
   "id": "e2160138-1e17-4769-aa24-733bafa827f3",
   "metadata": {},
   "outputs": [],
   "source": [
    "VegaVita = pp.LpVariable(name=\"VegaVita\", lowBound=0, cat='Integer')\n",
    "HappyHealth = pp.LpVariable(name=\"HappyHealth\", lowBound=0, cat='Integer')\n"
   ]
  },
  {
   "cell_type": "code",
   "execution_count": 85,
   "id": "2ad0101a-462d-4b44-8cdf-7fed5eac9e77",
   "metadata": {},
   "outputs": [],
   "source": [
    "obj_func = 0.2 * VegaVita + 0.3 * HappyHealth\n"
   ]
  },
  {
   "cell_type": "code",
   "execution_count": 87,
   "id": "d7c2b231-985f-4ad3-b350-b97779d40a5b",
   "metadata": {},
   "outputs": [],
   "source": [
    "C1 = pp.LpConstraint(name='Vitamin_C_Constraint', e=20 * VegaVita + 30 * HappyHealth, rhs=60, sense=pp.LpConstraintGE)\n",
    "C2 = pp.LpConstraint(name='Calcium_Constraint', e=500 * VegaVita + 250 * HappyHealth, rhs=1000, sense=pp.LpConstraintGE)\n",
    "C3 = pp.LpConstraint(name='Iron_Constraint', e=9 * VegaVita + 2 * HappyHealth, rhs=18, sense=pp.LpConstraintGE)\n",
    "C4 = pp.LpConstraint(name='Niacin_Constraint', e=2 * VegaVita + 10 * HappyHealth, rhs=20, sense=pp.LpConstraintGE)\n",
    "C5 = pp.LpConstraint(name='Magnesium_Constraint', e=60 * VegaVita + 90 * HappyHealth, rhs=360, sense=pp.LpConstraintGE)"
   ]
  },
  {
   "cell_type": "code",
   "execution_count": 89,
   "id": "95375d2b-2a49-4ace-8c0d-2505cff98f08",
   "metadata": {},
   "outputs": [],
   "source": [
    "model += obj_func\n",
    "model += C1\n",
    "model += C2\n",
    "model += C3\n",
    "model += C4\n",
    "model += C5"
   ]
  },
  {
   "cell_type": "code",
   "execution_count": 91,
   "id": "ca69b0b9-3d9d-4b05-9a12-468d564f99d9",
   "metadata": {},
   "outputs": [
    {
     "data": {
      "text/plain": [
       "1"
      ]
     },
     "execution_count": 91,
     "metadata": {},
     "output_type": "execute_result"
    }
   ],
   "source": [
    "solverToUse = pp.PULP_CBC_CMD(msg=False)\n",
    "model.solve(solver=solverToUse)"
   ]
  },
  {
   "cell_type": "code",
   "execution_count": 93,
   "id": "d19b933d-a298-481f-bc3f-b7f6b6212cf3",
   "metadata": {},
   "outputs": [
    {
     "data": {
      "text/html": [
       "<style type=\"text/css\">\n",
       "</style>\n",
       "<table id=\"T_96a9e\">\n",
       "  <thead>\n",
       "    <tr>\n",
       "      <th class=\"blank level0\" >&nbsp;</th>\n",
       "      <th id=\"T_96a9e_level0_col0\" class=\"col_heading level0 col0\" >Optimal Solution</th>\n",
       "      <th id=\"T_96a9e_level0_col1\" class=\"col_heading level0 col1\" >HappyHealth</th>\n",
       "      <th id=\"T_96a9e_level0_col2\" class=\"col_heading level0 col2\" >VegaVita</th>\n",
       "    </tr>\n",
       "    <tr>\n",
       "      <th class=\"index_name level0\" >Model Status</th>\n",
       "      <th class=\"blank col0\" >&nbsp;</th>\n",
       "      <th class=\"blank col1\" >&nbsp;</th>\n",
       "      <th class=\"blank col2\" >&nbsp;</th>\n",
       "    </tr>\n",
       "  </thead>\n",
       "  <tbody>\n",
       "    <tr>\n",
       "      <th id=\"T_96a9e_level0_row0\" class=\"row_heading level0 row0\" >Optimal</th>\n",
       "      <td id=\"T_96a9e_row0_col0\" class=\"data row0 col0\" >1.20</td>\n",
       "      <td id=\"T_96a9e_row0_col1\" class=\"data row0 col1\" >2.00</td>\n",
       "      <td id=\"T_96a9e_row0_col2\" class=\"data row0 col2\" >3.00</td>\n",
       "    </tr>\n",
       "  </tbody>\n",
       "</table>\n"
      ],
      "text/plain": [
       "<pandas.io.formats.style.Styler at 0x1852cbd1fa0>"
      ]
     },
     "execution_count": 93,
     "metadata": {},
     "output_type": "execute_result"
    }
   ],
   "source": [
    "Results = {\"Model Status\": pp.LpStatus[model.status]}\n",
    "Results.update({\"Optimal Solution\": pp.value(model.objective)})\n",
    "Results.update({v.name: v.varValue for v in model.variables()})\n",
    "pd.DataFrame.from_dict(Results, orient='index').T.set_index('Model Status').style.format('{:,.2f}')"
   ]
  },
  {
   "cell_type": "markdown",
   "id": "4291ef0f-706d-41b0-9101-168e49e7c012",
   "metadata": {},
   "source": [
    "Se obtiene una solución óptima que minimiza el costo a 1.20 dólares diarios, cumpliendo con todos los requisitos nutricionales. Para lograrlo, se deben consumir 3 tabletas de Happy Health y 3 tabletas de Vega Vita al día, garantizando una solución práctica donde las cantidades de tabletas son enteras. Este ajuste asegura que los requerimientos de vitamina C, calcio, hierro, niacina y magnesio se cumplen sin la necesidad de fraccionar suplementos, lo cual no es práctico en la vida real. Aunque el costo no cambió significativamente respecto al modelo anterior, ahora los resultados son más practicos."
   ]
  },
  {
   "cell_type": "markdown",
   "id": "6b38f4d0-d362-488c-b492-327bfde03c64",
   "metadata": {},
   "source": [
    "# Ejercicio 2"
   ]
  },
  {
   "cell_type": "markdown",
   "id": "2639d827-baa7-4f70-9bea-65eba6c308cc",
   "metadata": {},
   "source": [
    "# The scheduling problem"
   ]
  },
  {
   "cell_type": "code",
   "execution_count": 6,
   "id": "5952c1a6-ef75-4e15-9fd7-376b8a780885",
   "metadata": {},
   "outputs": [],
   "source": [
    "import pulp as pp\n"
   ]
  },
  {
   "cell_type": "code",
   "execution_count": 8,
   "id": "81e9ee15-05b9-4203-8911-7e1a3defb81d",
   "metadata": {},
   "outputs": [],
   "source": [
    "model = pp.LpProblem(name=\"bus_scheduling_problem\", sense=pp.LpMinimize)\n"
   ]
  },
  {
   "cell_type": "code",
   "execution_count": 10,
   "id": "e4ee1a5a-5a1c-4979-834f-91187c3a9b3e",
   "metadata": {},
   "outputs": [],
   "source": [
    "DR_0_8 = pp.LpVariable(name=\"DR_0_8\", lowBound=0, cat='Integer')\n",
    "DR_4_12 = pp.LpVariable(name=\"DR_4_12\", lowBound=0, cat='Integer')\n",
    "DR_8_16 = pp.LpVariable(name=\"DR_8_16\", lowBound=0, cat='Integer')\n",
    "DR_12_20 = pp.LpVariable(name=\"DR_12_20\", lowBound=0, cat='Integer')\n",
    "DR_16_0 = pp.LpVariable(name=\"DR_16_0\", lowBound=0, cat='Integer')\n",
    "DR_20_4 = pp.LpVariable(name=\"DR_20_4\", lowBound=0, cat='Integer')\n"
   ]
  },
  {
   "cell_type": "code",
   "execution_count": 12,
   "id": "48f58818-d5c4-477d-8d97-910be89c9d4a",
   "metadata": {},
   "outputs": [],
   "source": [
    "model += (DR_0_8 + DR_4_12 + DR_8_16 + DR_12_20 + DR_16_0 + DR_20_4, \"Total_Drivers\")\n"
   ]
  },
  {
   "cell_type": "code",
   "execution_count": 14,
   "id": "f8683a3e-ab7b-4ab2-b70f-d4194c1660bf",
   "metadata": {},
   "outputs": [],
   "source": [
    "model += (DR_0_8 + DR_20_4 >= 4, \"Demand_0_4\")\n"
   ]
  },
  {
   "cell_type": "code",
   "execution_count": 16,
   "id": "c2987771-2f4e-4495-b0fb-93a5fd2cf140",
   "metadata": {},
   "outputs": [],
   "source": [
    "model += (DR_0_8 + DR_4_12 >= 8, \"Demand_4_8\")\n"
   ]
  },
  {
   "cell_type": "code",
   "execution_count": 18,
   "id": "02eeb67b-91b0-496b-b15b-c30a7d930b22",
   "metadata": {},
   "outputs": [],
   "source": [
    "model += (DR_4_12 + DR_8_16 >= 10, \"Demand_8_12\")\n"
   ]
  },
  {
   "cell_type": "code",
   "execution_count": 20,
   "id": "c7508e79-a5cf-4351-8935-393ce2bb92e5",
   "metadata": {},
   "outputs": [],
   "source": [
    "model += (DR_8_16 + DR_12_20 >= 7, \"Demand_12_16\")\n"
   ]
  },
  {
   "cell_type": "code",
   "execution_count": 22,
   "id": "4457c01b-c658-40a0-81f6-44282199a9c1",
   "metadata": {},
   "outputs": [],
   "source": [
    "model += (DR_12_20 + DR_16_0 >= 12, \"Demand_16_20\")\n"
   ]
  },
  {
   "cell_type": "code",
   "execution_count": 24,
   "id": "bede3b19-c5da-418a-a504-5951ec5a0d79",
   "metadata": {},
   "outputs": [],
   "source": [
    "model += (DR_16_0 + DR_20_4 >= 4, \"Demand_20_24\")\n"
   ]
  },
  {
   "cell_type": "code",
   "execution_count": 26,
   "id": "30aff4de-3f3c-4355-ba1a-0ed2d35a8ef0",
   "metadata": {},
   "outputs": [
    {
     "data": {
      "text/plain": [
       "1"
      ]
     },
     "execution_count": 26,
     "metadata": {},
     "output_type": "execute_result"
    }
   ],
   "source": [
    "solver = pp.PULP_CBC_CMD(msg=False)\n",
    "model.solve(solver=solver)\n"
   ]
  },
  {
   "cell_type": "code",
   "execution_count": 28,
   "id": "1249561a-5819-4d96-bb52-c6ab2903a72e",
   "metadata": {},
   "outputs": [
    {
     "name": "stdout",
     "output_type": "stream",
     "text": [
      "DR_0_8: 0.0\n",
      "DR_4_12: 10.0\n",
      "DR_8_16: 0.0\n",
      "DR_12_20: 12.0\n",
      "DR_16_0: 0.0\n",
      "DR_20_4: 4.0\n",
      "Total Drivers: 26.0\n"
     ]
    }
   ],
   "source": [
    "for var in [DR_0_8, DR_4_12, DR_8_16, DR_12_20, DR_16_0, DR_20_4]:\n",
    "    print(f\"{var.name}: {var.varValue}\")\n",
    "\n",
    "print(f\"Total Drivers: {pp.value(model.objective)}\")\n"
   ]
  },
  {
   "cell_type": "code",
   "execution_count": null,
   "id": "a87cd9de-5075-479a-af94-89925fcdc45d",
   "metadata": {},
   "outputs": [],
   "source": []
  }
 ],
 "metadata": {
  "kernelspec": {
   "display_name": "Python 3 (ipykernel)",
   "language": "python",
   "name": "python3"
  },
  "language_info": {
   "codemirror_mode": {
    "name": "ipython",
    "version": 3
   },
   "file_extension": ".py",
   "mimetype": "text/x-python",
   "name": "python",
   "nbconvert_exporter": "python",
   "pygments_lexer": "ipython3",
   "version": "3.12.3"
  }
 },
 "nbformat": 4,
 "nbformat_minor": 5
}
